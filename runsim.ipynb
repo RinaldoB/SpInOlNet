{
 "metadata": {
  "name": "",
  "signature": "sha256:4671de983dae9d39ca56bf2f48e744c9ee6dc13209bcafc031ddebddb8da1450"
 },
 "nbformat": 3,
 "nbformat_minor": 0,
 "worksheets": [
  {
   "cells": [
    {
     "cell_type": "code",
     "collapsed": false,
     "input": [
      "from runsim_reduced import runsim\n",
      "from neuron_models import model_IF \n",
      "from brian.stdunits import ms, nS, pF, mV, Hz"
     ],
     "language": "python",
     "metadata": {},
     "outputs": [],
     "prompt_number": 5
    },
    {
     "cell_type": "code",
     "collapsed": false,
     "input": [
      "# Neuron Parameters\n",
      "C = 289.5*pF\n",
      "gL = 28.95*nS\n",
      "EL = -70*mV\n",
      "VT = -57*mV\n",
      "Vr = -70*mV\n",
      "tau_ref=5*ms\n",
      "\n",
      "# Dimensions\n",
      "N_glu = 35\n",
      "\n",
      "# Synaptic Parameters\n",
      "Ee = 0*mV\n",
      "Ei = -75*mV\n",
      "tau_syn_e = 2 *ms\n",
      "tau_syn_i = 10*ms\n",
      "\n",
      "# Weights\n",
      "w0 = 1*nS\n",
      "\n",
      "# Simulation\n",
      "dt = 0.1*ms\n",
      "prerun = 0*ms\n",
      "simtime = 500*ms"
     ],
     "language": "python",
     "metadata": {},
     "outputs": [],
     "prompt_number": 13
    },
    {
     "cell_type": "code",
     "collapsed": false,
     "input": [
      "out = runsim(monitors=['PN', 'KC'],\n",
      "             neuron_model = model_IF(C, gL, EL, Ee, tau_syn_e, Ei, tau_syn_i, VT, Vr, tau_ref),\n",
      "             orn_rates    = 10*Hz,\n",
      "             N_glu        = N_glu,\n",
      "             N_KC         = 1,\n",
      "             PNperKC      = 12,\n",
      "             PNperGlu     = 1,\n",
      "             LNperGlu     = 1,\n",
      "             ORNperGlu    = 284,\n",
      "             beeid        = 0,\n",
      "             wORNPN = w0, wORNLN = w0, wLNPN = w0, wPNKC = w0,\n",
      "             V0min=EL, V0max=VT,\n",
      "             prerun=prerun, simtime=simtime, dt=dt, report = 'text')"
     ],
     "language": "python",
     "metadata": {},
     "outputs": [
      {
       "output_type": "stream",
       "stream": "stdout",
       "text": [
        "100% complete, 3s elapsed, approximately 0s remaining.\n"
       ]
      }
     ],
     "prompt_number": 7
    },
    {
     "cell_type": "code",
     "collapsed": false,
     "input": [
      "spiketimes = out[0]\n",
      "print 'mean PN firing rate: ', len(spiketimes['PN'])/(simtime*N_glu)"
     ],
     "language": "python",
     "metadata": {},
     "outputs": [
      {
       "output_type": "stream",
       "stream": "stdout",
       "text": [
        "mean PN firing rate:  1.14285714286 Hz\n"
       ]
      }
     ],
     "prompt_number": 15
    }
   ],
   "metadata": {}
  }
 ]
}